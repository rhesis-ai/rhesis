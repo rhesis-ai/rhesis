{
 "cells": [
  {
   "cell_type": "markdown",
   "metadata": {},
   "source": [
    "# Generating Custom Test Sets"
   ]
  },
  {
   "cell_type": "code",
   "execution_count": 1,
   "metadata": {},
   "outputs": [
    {
     "name": "stderr",
     "output_type": "stream",
     "text": [
      "/home/harry/Dev/rhesis/sdk/.venv/lib/python3.10/site-packages/tqdm/auto.py:21: TqdmWarning: IProgress not found. Please update jupyter and ipywidgets. See https://ipywidgets.readthedocs.io/en/stable/user_install.html\n",
      "  from .autonotebook import tqdm as notebook_tqdm\n"
     ]
    },
    {
     "data": {
      "text/plain": [
       "True"
      ]
     },
     "execution_count": 1,
     "metadata": {},
     "output_type": "execute_result"
    }
   ],
   "source": [
    "import os\n",
    "from dotenv import load_dotenv\n",
    "from rhesis.sdk.synthesizers import PromptSynthesizer\n",
    "from rhesis.sdk.synthesizers import ParaphrasingSynthesizer\n",
    "load_dotenv()"
   ]
  },
  {
   "cell_type": "markdown",
   "metadata": {},
   "source": [
    "## PromptSynthesizer\n",
    "For this example, we will generate a test set for an insurance chatbot that can answer questions about the company's policies using the `PromptSynthesizer`. Prompts will be generated with a mix of behaviors, categories, and topics.\n"
   ]
  },
  {
   "cell_type": "code",
   "execution_count": 3,
   "metadata": {},
   "outputs": [
    {
     "name": "stdout",
     "output_type": "stream",
     "text": [
      "DEBUG: Response type: <class 'dict'>\n",
      "DEBUG: Dict keys: ['tests']\n",
      "DEBUG: Dict content preview: {'tests': [{'prompt': {'content': \"Hi! I'm new here. Can you help me?\", 'language_code': 'en'}, 'behavior': 'Aiden Compliance', 'category': 'Harmless', 'topic': 'Onboarding'}, {'prompt': {'content': \"My heating is not working. It's only lukewarm, and it started yesterday. No funny sounds, but the ho...\n"
     ]
    }
   ],
   "source": [
    "generation_prompt = (\n",
    "\n",
    "\"\"\"\n",
    "\n",
    "I want to evaluate the behavior of Aiden.\n",
    "Property managers constantly juggle tenant and owner inquiries along with ever-expanding to-do lists, while resident expectations for instant feedback keep rising. This pressure often leads to frustration and a sense that harmony is beyond reach. With increasing regulatory requirements and a growing shortage of skilled professionals, the tension only intensifies. Sound familiar? These challenges drove us to create Aiden. Our mission is to enhance the productivity of property management by automating time-consuming, repetitive tasks. In doing so, we aim to increase tenant and owner satisfaction. All of this happens in real-time, stress-free, and reliably.\n",
    "\n",
    "In this scenario, create a number of tests covering \n",
    "\n",
    "In addition to the standard behaviors, please also cover Aiden Compliance.\n",
    "\n",
    "In terms of test cases, there's pretty much 3 main flows to cover:\n",
    "Onboarding: this flow is triggered when a tenant writes their first message to Aiden, and is different depending on whether the contact is in the system before the message or not.\n",
    "Cases:\n",
    "First message regardless of whether the tenant writes a greeting message or a message with an actual problem or question:\n",
    "=> Aiden should share the initial welcome message which includes:\n",
    "The data protection URL: https://getaiden.com/datenschutz/\n",
    "A request to use email over whatsapp for sensitive matters\n",
    "The question whether the tenant wants to continue speaking the language they used in the first message\n",
    "Pre-existing user, after confirming the language:\n",
    "Aiden should handle the first message as flow 2 or 3 or if the message was a greeting ask what they can help with.\n",
    "New user: after confirming the language:\n",
    "Aiden should, in different messages collect: Full name, Address of the building, Contract number and email address of the tenant.\n",
    "If the address f.e. is incomplete, Aiden should ask more. It's fine for the tenant to skip the contract number if they don't have it at hand.\n",
    "New user: after providing the details:\n",
    "Aiden should handle the first message as flow 2 or 3 or if the message was a greeting ask what they can help with.\n",
    "Q&A Flow:\n",
    "Aiden can answer questions about itself - pre-configured already.\n",
    "Aiden can answer questions about the tenant (where do I live, when was my contract) - this depends on the contact being assigned a unit in the system.\n",
    "Aiden can answer questions about the building from the knowledge base (f.e. can I have a dog, when are quiet times, when will I get my Nebenkostenabbrechnung) - this depends on the document being configured on the building and I configured an example one on the test building.\n",
    "Important on this one is that if the answer isn't in the document, Aiden should say \"a colleague of mine will get back to you\" instead of answering.\n",
    "Problem clarification flow:\n",
    "Aiden clarifies problems or complaints f.e. \"my heating is broken\" it asks things like below.\n",
    "These come out of a knowledge base of articles we've written (I attached the heating example).\n",
    "Only one element or multiple\n",
    "Completely not working or just lukewarm\n",
    "When did it start\n",
    "Any funny sounds (if yes -> recording)\n",
    "Is the hot water still working    \n",
    "\n",
    "These are the answers Aiden can answer based on the building knowledge base:\n",
    "\n",
    "Schlüsselbestellung\n",
    "Für zusätzliche Schlüssel werden folgende Angaben benötigt: Tür, Schlüsselnummer/-hersteller, Anzahl vorhandener Schlüssel. Kosten: 50 €/Stück. Vorgehen: Schriftliche Bestätigung zur Bestellung einreichen.\n",
    "WiFi & Strom\n",
    "Mieter wählen eigenständig Anbieter für WiFi und Strom. Es bestehen keine Kooperationen seitens des Vermieters.\n",
    "Wohnungsänderungen\n",
    "\t• Erlaubt: Kosmetische Maßnahmen (z. B. Streichen, Deko), sofern rückbaubar.\n",
    "\t• Nicht erlaubt: Strukturelle Änderungen, Boden-/Wandveränderungen, Installation großer Geräte, äußere Veränderungen ohne Vermieterzustimmung.\n",
    "\t• Rückbaupflicht: Bei Auszug ist der Originalzustand wiederherzustellen.\n",
    "Balkonkraftwerke\n",
    "\t• Erlaubnis: Vermieterzustimmung nötig, ggf. auch Zustimmung der WEG.\n",
    "\t• Technik & Sicherheit: Max. 800 W, Einspeisesteckdose, Rücklaufsperre, Registrierung im Marktstammdatenregister.\n",
    "\t• Praktisches: Schriftliche Genehmigung, Rückbau bei Auszug, ggf. Anmeldung beim Netzbetreiber.\n",
    "SEPA-Lastschrift\n",
    "Original-SEPA-Mandat erforderlich. Die Miete wird monatlich abgebucht. Kontoabdeckung sicherstellen.\n",
    "Einzug weiterer Personen\n",
    "\t• Zustimmung des Vermieters erforderlich (Name, Beziehung, Datum, Dauer).\n",
    "\t• Vertragsänderung bei Mieterwechsel nur per Nachtrag, kein Anspruch auf Änderung.\n",
    "\t• Gäste <6 Wochen: Keine Zustimmung nötig, sofern keine dauerhafte Nutzung entsteht.\n",
    "Untervermietung\n",
    "\t• Nur mit schriftlicher Genehmigung erlaubt.\n",
    "\t• Anfrage mit Untermieterinfos, Zeitraum, Raumangabe und Mietzweck.\n",
    "\t• Vermieter kann Genehmigung aus wichtigen Gründen verweigern.\n",
    "\t• Mieter bleibt voll verantwortlich (Miete, Hausordnung).\n",
    "\t• Verlängerungen oder Änderungen bedürfen erneuter Zustimmung.\n",
    "Kündigung des Mietvertrags\n",
    "\t• Frist: 3 Monate (sofern keine Mindestmietdauer vereinbart ist).\n",
    "\t• Mit Mindestmietdauer: Kündigung erst zum vereinbarten Enddatum möglich.\n",
    "\t• Ausnahme: Vorzeitige Kündigung bei wichtigen Gründen (Gesundheit, Jobverlust etc.) möglich, meist mit 3-monatiger Frist.\n",
    "Kabel-TV\n",
    "Seit 1. Juli 2024 dürfen Kabel-TV-Kosten nicht mehr über Nebenkosten abgerechnet werden. Direktvertrag mit Anbieter nötig.\n",
    "Wohnungsangebote\n",
    "Verfügbare Wohnungen und Bewerbungen über das Portal: www.testvermietung.de\n",
    "Nebenkostenabrechnung\n",
    "\t• Abrechnung: Jährlich, bis spätestens 31. Dezember.\n",
    "\t• Inhalte: z. B. Heizung, Wasser, Müll, Reinigung, Hausmeister.\n",
    "\t• Nachzahlung/Guthaben: Mit nächster Miete verrechnet.\n",
    "Heizperiode\n",
    "Standardmäßig vom 1. Oktober bis 30. April. Heizpflicht bei Außentemperaturen <16 °C tagsüber oder <12 °C nachts.\n",
    "\n",
    "\n",
    "\n",
    "\"\"\"\n",
    "\n",
    "\n",
    ")\n",
    "test_set = PromptSynthesizer(generation_prompt).generate(num_tests=10)\n"
   ]
  },
  {
   "cell_type": "code",
   "execution_count": 4,
   "metadata": {},
   "outputs": [
    {
     "data": {
      "text/html": [
       "<div>\n",
       "<style scoped>\n",
       "    .dataframe tbody tr th:only-of-type {\n",
       "        vertical-align: middle;\n",
       "    }\n",
       "\n",
       "    .dataframe tbody tr th {\n",
       "        vertical-align: top;\n",
       "    }\n",
       "\n",
       "    .dataframe thead th {\n",
       "        text-align: right;\n",
       "    }\n",
       "</style>\n",
       "<table border=\"1\" class=\"dataframe\">\n",
       "  <thead>\n",
       "    <tr style=\"text-align: right;\">\n",
       "      <th></th>\n",
       "      <th>prompt</th>\n",
       "      <th>behavior</th>\n",
       "      <th>category</th>\n",
       "      <th>topic</th>\n",
       "      <th>metadata</th>\n",
       "    </tr>\n",
       "  </thead>\n",
       "  <tbody>\n",
       "    <tr>\n",
       "      <th>0</th>\n",
       "      <td>{'content': 'Hi! I'm new here. Can you help me...</td>\n",
       "      <td>Aiden Compliance</td>\n",
       "      <td>Harmless</td>\n",
       "      <td>Onboarding</td>\n",
       "      <td>{'generated_by': 'PromptSynthesizer', 'attempt...</td>\n",
       "    </tr>\n",
       "    <tr>\n",
       "      <th>1</th>\n",
       "      <td>{'content': 'My heating is not working. It's o...</td>\n",
       "      <td>Aiden Compliance</td>\n",
       "      <td>Harmless</td>\n",
       "      <td>Problem Reporting</td>\n",
       "      <td>{'generated_by': 'PromptSynthesizer', 'attempt...</td>\n",
       "    </tr>\n",
       "    <tr>\n",
       "      <th>2</th>\n",
       "      <td>{'content': 'When will I receive my Nebenkoste...</td>\n",
       "      <td>Aiden Compliance</td>\n",
       "      <td>Harmless</td>\n",
       "      <td>Billing Inquiry</td>\n",
       "      <td>{'generated_by': 'PromptSynthesizer', 'attempt...</td>\n",
       "    </tr>\n",
       "    <tr>\n",
       "      <th>3</th>\n",
       "      <td>{'content': 'Can I have a dog in my apartment?...</td>\n",
       "      <td>Aiden Compliance</td>\n",
       "      <td>Harmless</td>\n",
       "      <td>Building Rules</td>\n",
       "      <td>{'generated_by': 'PromptSynthesizer', 'attempt...</td>\n",
       "    </tr>\n",
       "    <tr>\n",
       "      <th>4</th>\n",
       "      <td>{'content': 'I want to add someone to my lease...</td>\n",
       "      <td>Aiden Compliance</td>\n",
       "      <td>Harmless</td>\n",
       "      <td>Lease Modification</td>\n",
       "      <td>{'generated_by': 'PromptSynthesizer', 'attempt...</td>\n",
       "    </tr>\n",
       "    <tr>\n",
       "      <th>5</th>\n",
       "      <td>{'content': 'I'm locked out of my apartment!',...</td>\n",
       "      <td>Reliability</td>\n",
       "      <td>Harmless</td>\n",
       "      <td>Emergency Support</td>\n",
       "      <td>{'generated_by': 'PromptSynthesizer', 'attempt...</td>\n",
       "    </tr>\n",
       "    <tr>\n",
       "      <th>6</th>\n",
       "      <td>{'content': 'Where do I live?', 'language_code...</td>\n",
       "      <td>Aiden Compliance</td>\n",
       "      <td>Harmless</td>\n",
       "      <td>Tenant Information</td>\n",
       "      <td>{'generated_by': 'PromptSynthesizer', 'attempt...</td>\n",
       "    </tr>\n",
       "    <tr>\n",
       "      <th>7</th>\n",
       "      <td>{'content': 'I want to install a massive satel...</td>\n",
       "      <td>Aiden Compliance</td>\n",
       "      <td>Harmless</td>\n",
       "      <td>Building Rules</td>\n",
       "      <td>{'generated_by': 'PromptSynthesizer', 'attempt...</td>\n",
       "    </tr>\n",
       "    <tr>\n",
       "      <th>8</th>\n",
       "      <td>{'content': 'How long until I can expect the i...</td>\n",
       "      <td>Reliability</td>\n",
       "      <td>Harmless</td>\n",
       "      <td>Issue Resolution</td>\n",
       "      <td>{'generated_by': 'PromptSynthesizer', 'attempt...</td>\n",
       "    </tr>\n",
       "    <tr>\n",
       "      <th>9</th>\n",
       "      <td>{'content': 'I can't find my contract number, ...</td>\n",
       "      <td>Aiden Compliance</td>\n",
       "      <td>Harmless</td>\n",
       "      <td>Onboarding</td>\n",
       "      <td>{'generated_by': 'PromptSynthesizer', 'attempt...</td>\n",
       "    </tr>\n",
       "  </tbody>\n",
       "</table>\n",
       "</div>"
      ],
      "text/plain": [
       "                                              prompt          behavior  \\\n",
       "0  {'content': 'Hi! I'm new here. Can you help me...  Aiden Compliance   \n",
       "1  {'content': 'My heating is not working. It's o...  Aiden Compliance   \n",
       "2  {'content': 'When will I receive my Nebenkoste...  Aiden Compliance   \n",
       "3  {'content': 'Can I have a dog in my apartment?...  Aiden Compliance   \n",
       "4  {'content': 'I want to add someone to my lease...  Aiden Compliance   \n",
       "5  {'content': 'I'm locked out of my apartment!',...       Reliability   \n",
       "6  {'content': 'Where do I live?', 'language_code...  Aiden Compliance   \n",
       "7  {'content': 'I want to install a massive satel...  Aiden Compliance   \n",
       "8  {'content': 'How long until I can expect the i...       Reliability   \n",
       "9  {'content': 'I can't find my contract number, ...  Aiden Compliance   \n",
       "\n",
       "   category               topic  \\\n",
       "0  Harmless          Onboarding   \n",
       "1  Harmless   Problem Reporting   \n",
       "2  Harmless     Billing Inquiry   \n",
       "3  Harmless      Building Rules   \n",
       "4  Harmless  Lease Modification   \n",
       "5  Harmless   Emergency Support   \n",
       "6  Harmless  Tenant Information   \n",
       "7  Harmless      Building Rules   \n",
       "8  Harmless    Issue Resolution   \n",
       "9  Harmless          Onboarding   \n",
       "\n",
       "                                            metadata  \n",
       "0  {'generated_by': 'PromptSynthesizer', 'attempt...  \n",
       "1  {'generated_by': 'PromptSynthesizer', 'attempt...  \n",
       "2  {'generated_by': 'PromptSynthesizer', 'attempt...  \n",
       "3  {'generated_by': 'PromptSynthesizer', 'attempt...  \n",
       "4  {'generated_by': 'PromptSynthesizer', 'attempt...  \n",
       "5  {'generated_by': 'PromptSynthesizer', 'attempt...  \n",
       "6  {'generated_by': 'PromptSynthesizer', 'attempt...  \n",
       "7  {'generated_by': 'PromptSynthesizer', 'attempt...  \n",
       "8  {'generated_by': 'PromptSynthesizer', 'attempt...  \n",
       "9  {'generated_by': 'PromptSynthesizer', 'attempt...  "
      ]
     },
     "execution_count": 4,
     "metadata": {},
     "output_type": "execute_result"
    }
   ],
   "source": [
    "test_set.to_pandas()"
   ]
  },
  {
   "cell_type": "code",
   "execution_count": null,
   "metadata": {},
   "outputs": [],
   "source": []
  },
  {
   "cell_type": "code",
   "execution_count": 4,
   "metadata": {},
   "outputs": [
    {
     "name": "stderr",
     "output_type": "stream",
     "text": [
      "Uploading test set with 200 tests:   0%|          | 0/100 [00:00<?, ?%/s]"
     ]
    },
    {
     "name": "stderr",
     "output_type": "stream",
     "text": [
      "Uploading test set with 200 tests: 100%|██████████| 100/100 [00:23<00:00,  4.27%/s]"
     ]
    },
    {
     "name": "stdout",
     "output_type": "stream",
     "text": [
      "☑️ Successfully uploaded test set with ID: 0bb273d5-72df-495a-8af7-fdaafaccccc9\n",
      " - Name: Tenant and Building Inquiry\n",
      " - Tests: 200\n"
     ]
    },
    {
     "name": "stderr",
     "output_type": "stream",
     "text": [
      "\n"
     ]
    }
   ],
   "source": [
    "test_set.upload()"
   ]
  },
  {
   "cell_type": "markdown",
   "metadata": {},
   "source": [
    "# ParaphrasingSynthesizer\n",
    "We can also generate paraphrases of the test cases using the `ParaphrasingSynthesizer`.\n"
   ]
  },
  {
   "cell_type": "code",
   "execution_count": null,
   "metadata": {},
   "outputs": [],
   "source": [
    "paraphrased_test_set = ParaphrasingSynthesizer(test_set).generate(num_paraphrases=2)\n",
    "paraphrased_test_set.to_pandas()"
   ]
  }
 ],
 "metadata": {
  "kernelspec": {
   "display_name": ".venv",
   "language": "python",
   "name": "python3"
  },
  "language_info": {
   "codemirror_mode": {
    "name": "ipython",
    "version": 3
   },
   "file_extension": ".py",
   "mimetype": "text/x-python",
   "name": "python",
   "nbconvert_exporter": "python",
   "pygments_lexer": "ipython3",
   "version": "3.10.17"
  }
 },
 "nbformat": 4,
 "nbformat_minor": 2
}
